{
 "cells": [
  {
   "cell_type": "code",
   "execution_count": 0,
   "metadata": {
    "application/vnd.databricks.v1+cell": {
     "cellMetadata": {
      "byteLimit": 2048000,
      "rowLimit": 10000
     },
     "inputWidgets": {},
     "nuid": "b46237b3-1a96-4880-9b49-fe80f65997bb",
     "showTitle": false,
     "tableResultSettingsMap": {},
     "title": ""
    }
   },
   "outputs": [],
   "source": [
    "import pandas as pd\n",
    "\n",
    "#creating some test data\n",
    "source=pd.DataFrame({\n",
    "    'Store' : ['Hardware store','Hardware store','Hardware store','Building materials supplier','Paint shop','Paint shop'],\n",
    "    'Item' : ['Hammer','Nails','Saw','Timber','Primer paing','Glaze']})\n",
    "\n",
    "#adding item number per store column\n",
    "source['Item_number_per_store'] = source.sort_values(['Item']).groupby(['Store']).cumcount()+1\n",
    "\n",
    "#pivoting the table\n",
    "Shopping_list = source.pivot(index='Store', columns='Item_number_per_store', values='Item')\n",
    "\n",
    "#printing the result\n",
    "print(Shopping_list)\n",
    "\n",
    "\n"
   ]
  }
 ],
 "metadata": {
  "application/vnd.databricks.v1+notebook": {
   "computePreferences": null,
   "dashboards": [],
   "environmentMetadata": {
    "base_environment": "",
    "environment_version": "2"
   },
   "inputWidgetPreferences": null,
   "language": "python",
   "notebookMetadata": {
    "pythonIndentUnit": 4
   },
   "notebookName": "QueryTime_Stories_3_Python",
   "widgets": {}
  },
  "language_info": {
   "name": "python"
  }
 },
 "nbformat": 4,
 "nbformat_minor": 0
}
